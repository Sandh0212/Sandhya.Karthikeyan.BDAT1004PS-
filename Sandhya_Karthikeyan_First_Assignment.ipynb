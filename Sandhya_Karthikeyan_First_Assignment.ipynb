{
 "cells": [
  {
   "cell_type": "markdown",
   "metadata": {
    "colab_type": "text",
    "id": "view-in-github"
   },
   "source": [
    "<a href=\"https://colab.research.google.com/github/ChristianCalvaneseBDAT/Christian.Calvanese.1004.FirstAssignment/blob/main/Christian_calvanese_First_Assignment.ipynb\" target=\"_parent\"><img src=\"https://colab.research.google.com/assets/colab-badge.svg\" alt=\"Open In Colab\"/></a>"
   ]
  },
  {
   "cell_type": "markdown",
   "metadata": {
    "id": "xDqJDSR0OkJ-"
   },
   "source": [
    "#Problem Set 1\n",
    "\n",
    "This problem set is based on lectures 1,2 and 3. For a complete list of topics please\n",
    "\n",
    "consult page 2 of the course syllabus. Please consult the “Instructions for Problem\n",
    "\n",
    "Set Submissions” document under course information before submitting your\n",
    "assignment."
   ]
  },
  {
   "cell_type": "markdown",
   "metadata": {
    "id": "A24k3Ao2MuA6"
   },
   "source": [
    "\n",
    "\n",
    "##Question 1\n",
    "\n",
    "What data type is each of the following (evaluate where necessary)?\n",
    "\n",
    "5: **integer**.\n",
    "\n",
    "5.0: **Float**.\n",
    "\n",
    "5 > 1:  **True because 5 is greater than 1**.\n",
    "\n",
    "'5': **string** .\n",
    "\n",
    "5 * 2: **integer, 5 times 2**.\n",
    "\n",
    "'5' * 2:  **string, pythons multyply the string 5, concatenating the two strings to form '55**.\n",
    "\n",
    "'5' + '2':  **string, it adds up the string '5' plus the string '2' '52'**.\n",
    "\n",
    "5 / 2: **float number 2.5**.\n",
    "\n",
    "5 % 2:  **Integer, 1**.\n",
    "\n",
    "{5, 2, 1}: **This is a set of 5, 2, and 1. Sets are unordered collections of unique elements**.\n",
    "\n",
    "5 == 3: **False because 5 is not equal to 3**.\n",
    "\n",
    "Pi (the number): **a float**"
   ]
  },
  {
   "cell_type": "markdown",
   "metadata": {
    "id": "0P_b5jAsOZBU"
   },
   "source": [
    "#Question 2\n",
    "\n",
    "Write (and evaluate) python expressions that answer these questions:\n",
    "\n",
    "a. How many letters are there in 'Supercalifragilisticexpialidocious'?\n",
    "\n",
    "b. Does 'Supercalifragilisticexpialidocious' contain 'ice' as a substring?\n",
    "\n",
    "c. Which of the following words is the longest:\n",
    "Supercalifragilisticexpialidocious, Honorificabilitudinitatibus, or\n",
    "Bababadalgharaghtakamminarronnkonn?\n",
    "\n",
    "d. Which composer comes first in the dictionary: 'Berlioz', 'Borodin', 'Brian',\n",
    "'Bartok', 'Bellini', 'Buxtehude', 'Bernstein'. Which one comes last?\n"
   ]
  },
  {
   "cell_type": "markdown",
   "metadata": {
    "id": "ZwnEeHVNPP2q"
   },
   "source": [
    "**a.** How many letters are there in 'Supercalifragilisticexpialidocious'?"
   ]
  },
  {
   "cell_type": "code",
   "execution_count": 1,
   "metadata": {
    "colab": {
     "base_uri": "https://localhost:8080/"
    },
    "id": "K9g8Z8jSMx3I",
    "outputId": "05abbc14-05ee-4e07-89e2-e136606768c0"
   },
   "outputs": [
    {
     "name": "stdout",
     "output_type": "stream",
     "text": [
      "34\n"
     ]
    }
   ],
   "source": [
    "InputStr = 'Supercalifragilisticexpialidocious'\n",
    "Length = len(InputStr)\n",
    "print(Length)"
   ]
  },
  {
   "cell_type": "markdown",
   "metadata": {
    "id": "t9xRdrUMPSxm"
   },
   "source": [
    "**b.** Does 'Supercalifragilisticexpialidocious' contain 'ice' as a substring?"
   ]
  },
  {
   "cell_type": "code",
   "execution_count": 2,
   "metadata": {
    "colab": {
     "base_uri": "https://localhost:8080/"
    },
    "id": "0aAHAk3QO0DM",
    "outputId": "15d45dcf-0530-4f4d-bc23-cc087cb3cd54"
   },
   "outputs": [
    {
     "name": "stdout",
     "output_type": "stream",
     "text": [
      "True\n"
     ]
    }
   ],
   "source": [
    "InputStr = 'Supercalifragilisticexpialidocious'\n",
    "substr = 'ice' in InputStr\n",
    "print(substr)"
   ]
  },
  {
   "cell_type": "markdown",
   "metadata": {
    "id": "6qnJFX6sPUv1"
   },
   "source": [
    "**c.** Which of the following words is the longest:\n",
    "Supercalifragilisticexpialidocious, Honorificabilitudinitatibus, or\n",
    "Bababadalgharaghtakamminarronnkonn?"
   ]
  },
  {
   "cell_type": "code",
   "execution_count": 4,
   "metadata": {
    "colab": {
     "base_uri": "https://localhost:8080/"
    },
    "id": "DItKPLX_PDe2",
    "outputId": "74539316-6b95-411c-8c83-1332e3eaca2c"
   },
   "outputs": [
    {
     "name": "stdout",
     "output_type": "stream",
     "text": [
      "Supercalifragilisticexpialidocious\n"
     ]
    }
   ],
   "source": [
    "IptArray = ['Supercalifragilisticexpialidocious', 'Honorificabilitudinitatibus', 'Bababadalgharaghtakamminarronnkonn']\n",
    "longest = max(IptArray, key=len)\n",
    "print(longest)"
   ]
  },
  {
   "cell_type": "markdown",
   "metadata": {
    "id": "UOEiIsN5PWVQ"
   },
   "source": [
    "**d.** Which composer comes first in the dictionary: 'Berlioz', 'Borodin', 'Brian',\n",
    "'Bartok', 'Bellini', 'Buxtehude', 'Bernstein'. Which one comes last?"
   ]
  },
  {
   "cell_type": "code",
   "execution_count": 5,
   "metadata": {
    "colab": {
     "base_uri": "https://localhost:8080/"
    },
    "id": "yPXEt86OPErW",
    "outputId": "af76681b-9269-4477-9db9-a07a96bd323b"
   },
   "outputs": [
    {
     "name": "stdout",
     "output_type": "stream",
     "text": [
      "First: Bartok\n",
      "Last : Buxtehude\n"
     ]
    }
   ],
   "source": [
    "composers_list = ['Berlioz', 'Borodin', 'Brian', 'Bartok', 'Bellini', 'Buxtehude', 'Bernstein']\n",
    "first = min(composers_list)\n",
    "last = max(composers_list)\n",
    "\n",
    "print(\"First:\", first)\n",
    "print(\"Last :\", last)"
   ]
  },
  {
   "cell_type": "markdown",
   "metadata": {
    "id": "iaQV5Ra1PhuL"
   },
   "source": [
    "#Question 3\n",
    "\n",
    "Implement function triangleArea(a,b,c) that takes as input the lengths of the 3\n",
    "sides of a triangle and returns the area of the triangle. By Heron's formula, the area\n",
    "of a triangle with side lengths a, b, and c is\n",
    "s(s - a)(s -b)(s -c)\n",
    ", where\n",
    "s = (a+b+c)/2.\n",
    "\n",
    " triangleArea(2,2,2)\n",
    "1.7320508075688772\n"
   ]
  },
  {
   "cell_type": "code",
   "execution_count": 6,
   "metadata": {
    "colab": {
     "base_uri": "https://localhost:8080/"
    },
    "id": "NXKkbgtaPtA0",
    "outputId": "340451a0-4e9e-441f-dded-f859e5882fbd"
   },
   "outputs": [
    {
     "name": "stdout",
     "output_type": "stream",
     "text": [
      "1.7320508075688772\n"
     ]
    }
   ],
   "source": [
    "import math\n",
    "\n",
    "def triangleArea(a, b, c):\n",
    "    s = (a + b + c) / 2\n",
    "    area = math.sqrt(s * (s - a) * (s - b) * (s - c))\n",
    "    return area\n",
    "\n",
    "# In the example, test triangle would be:\n",
    "result = triangleArea(2, 2, 2)\n",
    "print(result)"
   ]
  },
  {
   "cell_type": "markdown",
   "metadata": {
    "id": "vzw7zw68P3-6"
   },
   "source": [
    "#Question 4\n",
    "\n",
    "Write a program in python to separate odd and even integers in separate arrays. Go\n",
    "to the editor\n",
    "Test Data :\n",
    "\n",
    "Input the number of elements to be stored in the array :5\n",
    "Input 5 elements in the array :\n",
    "\n",
    "element - 0 : 25\n",
    "\n",
    "element - 1 : 47\n",
    "\n",
    "element - 2 : 42\n",
    "\n",
    "element - 3 : 56\n",
    "\n",
    "element - 4 : 32\n",
    "\n",
    "Expected Output:\n",
    "\n",
    "The Even elements are:\n",
    "\n",
    "42 56 32\n",
    "\n",
    "The Odd elements are :\n",
    "\n",
    "25 47"
   ]
  },
  {
   "cell_type": "code",
   "execution_count": 8,
   "metadata": {
    "colab": {
     "base_uri": "https://localhost:8080/"
    },
    "id": "h2Wv2JTHQJjd",
    "outputId": "1f456d37-b30c-4109-f237-e0e4da9aeee7"
   },
   "outputs": [
    {
     "name": "stdout",
     "output_type": "stream",
     "text": [
      "The Even elements are: 42 56 32\n",
      "The Odd elements are: 25 47\n"
     ]
    }
   ],
   "source": [
    "def separate_elements(input_array):\n",
    "    Even = [num for num in input_array if num % 2 == 0]\n",
    "    Odd = [num for num in input_array if num % 2 != 0]\n",
    "    return Even, Odd\n",
    "\n",
    "\n",
    "GIVEN = [25, 47, 42, 56, 32]\n",
    "\n",
    "Even, Odd = separate_elements(GIVEN)\n",
    "print(\"The Even elements are:\", *Even)\n",
    "print(\"The Odd elements are:\", *Odd)"
   ]
  },
  {
   "cell_type": "markdown",
   "metadata": {
    "id": "MEfQI1_kRIue"
   },
   "source": [
    "#Question 5\n",
    "\n",
    "a. Write a function inside(x,y,x1,y1,x2,y2) that returns True or False\n",
    "depending on whether the point (x,y) lies in the rectangle with lower left\n",
    "corner (x1,y1) and upper right corner (x2,y2).\n",
    "\n",
    ">>> inside(1,1,0,0,2,3)\n",
    "True\n",
    ">>> inside(-1,-1,0,0,2,3)\n",
    "False\n",
    "\n",
    "b. Use function inside() from part a. to write an expression that tests whether\n",
    "the point (1,1) lies in both of the following rectangles: one with lower left\n",
    "corner (0.3, 0.5) and upper right corner (1.1, 0.7) and the other with lower\n",
    "left corner (0.5, 0.2) and upper right corner (1.1, 2)."
   ]
  },
  {
   "cell_type": "code",
   "execution_count": 9,
   "metadata": {
    "colab": {
     "base_uri": "https://localhost:8080/"
    },
    "id": "56Q2LmDWRZMz",
    "outputId": "312932dd-049b-4d05-e2e6-33127939f78a"
   },
   "outputs": [
    {
     "name": "stdout",
     "output_type": "stream",
     "text": [
      "True\n",
      "False\n",
      "False\n"
     ]
    }
   ],
   "source": [
    "def inside(x, y, x1, y1, x2, y2):\n",
    "    return x1 <= x <= x2 and y1 <= y <= y2\n",
    "\n",
    "# Example usage for part a\n",
    "print(inside(1, 1, 0, 0, 2, 3))   # True\n",
    "print(inside(-1, -1, 0, 0, 2, 3))  # False\n",
    "\n",
    "# Example usage for part b\n",
    "rectangle1 = inside(1, 1, 0.3, 0.5, 1.1, 0.7)\n",
    "rectangle2 = inside(1, 1, 0.5, 0.2, 1.1, 2)\n",
    "\n",
    "# Check if the point (1,1) lies in both rectangles\n",
    "print(rectangle1 and rectangle2)"
   ]
  },
  {
   "cell_type": "markdown",
   "metadata": {
    "id": "nKykGmBCRis4"
   },
   "source": [
    "#Question 6\n",
    "\n",
    "16. You can turn a word into pig-Latin using the following two rules (simplified):\n",
    "\n",
    "• If the word starts with a consonant, move that letter to the end and append\n",
    "'ay'. For example, 'happy' becomes 'appyhay' and 'pencil' becomes 'encilpay'.\n",
    "• If the word starts with a vowel, simply append 'way' to the end of the word.\n",
    "\n",
    "For example, 'enter' becomes 'enterway' and 'other' becomes 'otherway' . For\n",
    "our purposes, there are 5 vowels: a, e, i, o, u (so we count y as a consonant).\n",
    "Write a function pig() that takes a word (i.e., a string) as input and returns its pigLatin form. Your function should still work if the input word contains upper case\n",
    "characters. Your output should always be lower case however.\n",
    "\n",
    ">>> pig('happy')\n",
    "'appyhay'\n",
    "\n",
    ">>> pig('Enter')\n",
    "'enterway'"
   ]
  },
  {
   "cell_type": "code",
   "execution_count": 10,
   "metadata": {
    "colab": {
     "base_uri": "https://localhost:8080/"
    },
    "id": "5HK_8RGWRyZO",
    "outputId": "e8542b4d-a807-46bf-ec38-15cd792185eb"
   },
   "outputs": [
    {
     "name": "stdout",
     "output_type": "stream",
     "text": [
      "appyhay\n",
      "enterway\n"
     ]
    }
   ],
   "source": [
    "def pig(inputstr):\n",
    "    inputstr= inputstr.lower()\n",
    "    vowels = 'aeiou'\n",
    "\n",
    "    if inputstr[0] in vowels:\n",
    "        return inputstr + 'way'\n",
    "    else:\n",
    "        return inputstr[1:] + inputstr[0] + 'ay'\n",
    "\n",
    "print(pig('happy'))\n",
    "print(pig('Enter'))"
   ]
  },
  {
   "cell_type": "markdown",
   "metadata": {
    "id": "6T4JOpsHUJ3g"
   },
   "source": [
    "#Question 7\n",
    "\n",
    "File bloodtype1.txt records blood-types of patients (A, B, AB, O or OO) at a clinic.Write a function bldcount() that reads the file with name name and reports (i.e.,prints) how many patients there are in each bloodtype.>>> bldcount('bloodtype.txt')\n",
    "There are 10 patients of blood type A.\n",
    "There is one patient of blood type B.\n",
    "There are 10 patients of blood type AB.\n",
    "There are 12 patients of blood type O.\n",
    "There are no patients of blood type OO."
   ]
  },
  {
   "cell_type": "code",
   "execution_count": 1,
   "metadata": {
    "colab": {
     "base_uri": "https://localhost:8080/"
    },
    "id": "HNmpWqfMSSVf",
    "outputId": "1d7ff4c6-5f1d-46db-9134-8047085ef7b6"
   },
   "outputs": [
    {
     "name": "stdout",
     "output_type": "stream",
     "text": [
      "There are 15 patients of blood type A.\n",
      "There is one patient of blood type B.\n",
      "There are 13 patients of blood type AB.\n",
      "There are 15 patients of blood type O.\n",
      "There are no patients of blood type OO.\n"
     ]
    }
   ],
   "source": [
    "def bldcount(filename):\n",
    "    # Dict to store\n",
    "    blood_type_counts = {'A': 0, 'B': 0, 'AB': 0, 'O': 0, 'OO': 0}\n",
    "    with open(filename, 'r') as file:\n",
    "        blood_types = file.read().split()\n",
    "\n",
    "    for blood_type in blood_types:\n",
    "        blood_type_counts[blood_type] += 1\n",
    "\n",
    "    for blood_type, count in blood_type_counts.items():\n",
    "        if count == 1:\n",
    "            print(f\"There is one patient of blood type {blood_type}.\")\n",
    "        elif count > 1:\n",
    "            print(f\"There are {count} patients of blood type {blood_type}.\")\n",
    "        else:\n",
    "            print(f\"There are no patients of blood type {blood_type}.\")\n",
    "\n",
    "# Example:\n",
    "bldcount('bloodtype1.txt')"
   ]
  },
  {
   "cell_type": "markdown",
   "metadata": {
    "id": "eICNcrtiUagr"
   },
   "source": [
    "#Question 8\n",
    "\n",
    "Write a function curconv() that takes as input:1. a currency represented using a string (e.g., 'JPY' for the Japanese Yen or'EUR' for the Euro)2. an amountand then converts and returns the amount in US dollars.\n",
    ">>> curconv('EUR', 100)122.96544\n",
    ">>> curconv('JPY', 100)1.241401\n",
    "\n",
    "The currency rates you will need are stored in file currencies.txt:\n",
    "AUD 1.0345157\n",
    "Australian Dollar\n",
    "CHF 1.0237414\n",
    "Swiss Franc\n",
    "CNY 0.1550176 Chinese Yuan"
   ]
  },
  {
   "cell_type": "code",
   "execution_count": 3,
   "metadata": {
    "colab": {
     "base_uri": "https://localhost:8080/"
    },
    "id": "H3qmXKq3VIO8",
    "outputId": "05861c35-a2d1-46dc-9867-b39c0fd89ff3"
   },
   "outputs": [
    {
     "name": "stdout",
     "output_type": "stream",
     "text": [
      "12296.544\n",
      "124.1401\n"
     ]
    }
   ],
   "source": [
    "def curconv(currency, amount):\n",
    "    with open('currencies.txt', 'r') as file:\n",
    "        for line in file:\n",
    "            code, rate = line.split()[:2]\n",
    "            if code == currency:\n",
    "                return amount * float(rate)\n",
    "\n",
    "\n",
    "result_eur = curconv('EUR', 100)\n",
    "result_jpy = curconv('JPY', 100)\n",
    "\n",
    "print(result_eur)\n",
    "print(result_jpy)"
   ]
  },
  {
   "cell_type": "markdown",
   "metadata": {
    "id": "Ld-Sds0jXCJX"
   },
   "source": [
    "#Question 9\n",
    "\n",
    "Each of the following will cause an exception (an error).\n",
    "Identify what type ofexception each will cause.\n",
    "\n",
    "Trying to add incompatible variables, as inadding 6 + ‘a’\n",
    "\n",
    "**Type of Exception: TypeError**\n",
    "\n",
    "Referring to the 12th item of a list that has only 10\n",
    "items\n",
    "\n",
    "**Type of Exception: IndexError**\n",
    "\n",
    "Using a value that is out of range for a function’sinput, such as calling math.sqrt(-1.0)\n",
    "\n",
    "**Type of Exception: ValueError**\n",
    "\n",
    "Using an undeclared variable, such as print(x)when x has not been defined\n",
    "\n",
    "**Type of Exception: NameError**\n",
    "\n",
    "Trying to open a file that does not exist, such asmistyping the file name or looking in the wrongdirectory.\n",
    "\n",
    "**Type of Exception: FileNotFoundError**"
   ]
  },
  {
   "cell_type": "markdown",
   "metadata": {
    "id": "pStCrvRzdhQs"
   },
   "source": [
    "#Question 10\n",
    "\n",
    "Encryption is the process of hiding the meaning of a text by substituting letters in the\n",
    "message with other letters, according to some system. If the process is successful, no\n",
    "one but the intended recipient can understand the encrypted message.\n",
    "\n",
    "Cryptanalysis\n",
    "refers to attempts to undo the encryption, even if some details of the encryption are\n",
    "unknown (for example, if an encrypted message has been intercepted). The first step\n",
    "of cryptanalysis is often to build up a table of letter frequencies in the encrypted text.\n",
    "Assume that the string letters is already defined as\n",
    "'abcdefghijklmnopqrstuvwxyz'.\n",
    "\n",
    " Write a function called frequencies()\n",
    "that takes a string as its only parameter, and returns a list of integers, showing the\n",
    "number of times each character appears in the text. Your function may ignore any\n",
    "characters that are not in letters.\n",
    ">>> frequencies('The quick red fox got bored and went home.')\n",
    "\n",
    "[1, 1, 1, 3, 5, 1, 1, 2, 1, 0, 1, 0, 1, 2, 4, 0, 1, 2, 0, 2,\n",
    "1, 0, 1, 1, 0, 0]\n",
    "\n",
    ">>> frequencies('apple')"
   ]
  },
  {
   "cell_type": "code",
   "execution_count": 18,
   "metadata": {
    "colab": {
     "base_uri": "https://localhost:8080/"
    },
    "id": "aK-1mUxAeSwf",
    "outputId": "1031f635-8072-4705-d925-0dbf5f9fe401"
   },
   "outputs": [
    {
     "name": "stdout",
     "output_type": "stream",
     "text": [
      "[1, 1, 1, 3, 5, 1, 1, 2, 1, 0, 1, 0, 1, 2, 4, 0, 1, 2, 0, 3, 1, 0, 1, 1, 0, 0]\n",
      "[1, 0, 0, 0, 1, 0, 0, 0, 0, 0, 0, 1, 0, 0, 0, 2, 0, 0, 0, 0, 0, 0, 0, 0, 0, 0]\n"
     ]
    }
   ],
   "source": [
    "def frequencies(string):\n",
    "    letters = 'abcdefghijklmnopqrstuvwxyz'\n",
    "    frequency_list = [string.lower().count(char) for char in letters]\n",
    "\n",
    "    return frequency_list\n",
    "\n",
    "\n",
    "result1 = frequencies('The quick red fox got bored and went home.')\n",
    "result2 = frequencies('apple')\n",
    "#Examples as in the question\n",
    "print(result1)\n",
    "print(result2)"
   ]
  }
 ],
 "metadata": {
  "colab": {
   "authorship_tag": "ABX9TyOReUulZddzPgKDw7fz293e",
   "include_colab_link": true,
   "provenance": []
  },
  "kernelspec": {
   "display_name": "Python 3",
   "language": "python",
   "name": "python3"
  },
  "language_info": {
   "codemirror_mode": {
    "name": "ipython",
    "version": 3
   },
   "file_extension": ".py",
   "mimetype": "text/x-python",
   "name": "python",
   "nbconvert_exporter": "python",
   "pygments_lexer": "ipython3",
   "version": "3.8.5"
  }
 },
 "nbformat": 4,
 "nbformat_minor": 1
}
